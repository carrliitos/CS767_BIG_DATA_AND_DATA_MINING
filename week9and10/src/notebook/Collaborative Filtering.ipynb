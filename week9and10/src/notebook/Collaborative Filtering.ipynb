{
 "cells": [
  {
   "cell_type": "markdown",
   "id": "3099df95-893e-41f9-8d49-828c34c88927",
   "metadata": {},
   "source": [
    "# Assignment 4 - Collaborative Filterting\n",
    "\n",
    "Use collaborative filtering technique to generate a list of movies for a specific user.\n",
    "\n",
    "The ratings_small.csv file contains the userid, movieid, and rating value. For example:\n",
    "\n",
    "| userid | movieid | rating |\n",
    "|:------:|:-------:|:------:|\n",
    "| 1      | 31      | 2.5    |\n",
    "\n",
    "User 1 rate movie 31 as 2.5\n",
    "\n",
    "Implement the collaborative filtering technique using the training set read from the file: ratings_small_training.csv\n",
    "\n",
    "1. Download ratings_small_training.csv.\n",
    "2. Use this training set to predict the rating of the user and movie from the test set: ratings_small_test.csv\n",
    "3. Download ratings_small_test.csv.\n",
    "4. Add the third column to ratings_small_test.csv for the ratings of each user and each movie."
   ]
  },
  {
   "cell_type": "markdown",
   "id": "dec579c2-80ca-4b04-8074-8596f2ffc308",
   "metadata": {},
   "source": [
    "## Approach - Hybrid approach: User-Based Collaborative Filtering and Item-Based Collaborative Filtering\n",
    "\n",
    "In the hybrid approach, I combined two collaborative filtering techniques: User-Based Collaborative Filtering (UBCF) and Item-Based Collaborative Filtering (IBCF).\n",
    "\n",
    "1. **User-Based Collaborative Filtering (UBCF):** UBCF predicts a user's ratings for items based on the ratings of similar users. It calculates the _similarity between users_ based on their ratings and uses this similarity to predict a user's rating for an item by taking a weighted average of the ratings of similar users.\n",
    "\n",
    "2. **Item-Based Collaborative Filtering (IBCF):** IBCF predicts a user's ratings for items based on the ratings of similar items. It calculates the _similarity between items_ based on user ratings and uses this similarity to predict a user's rating for an item by taking a weighted average of the user's ratings for similar items.\n",
    "\n",
    "For the hybrid model, I combined the predictions from UBCF and IBCF by assigning weights to each approach. I used a weight of 0.7 for UBCF and 0.3 for IBCF.\n",
    "\n",
    "- **UBCF Weight (0.7):** I assigned a higher weight to UBCF (0.7) because it tends to perform better when there are more users in the dataset, as it relies on finding similar users to make predictions. By giving UBCF a higher weight, we are emphasizing the predictions based on user similarities, which can be more reliable when there are enough users to compare.\n",
    "\n",
    "- **IBCF Weight (0.3):** I assigned a lower weight to IBCF (0.3) because it can be more sensitive to sparsity in the dataset, especially when there are fewer ratings per item. By giving IBCF a lower weight, we are still considering the predictions based on item similarities, but to a lesser extent compared to UBCF.\n",
    "\n",
    "These weights are not fixed and can be tuned based on the characteristics of the dataset and the performance of each approach."
   ]
  },
  {
   "cell_type": "code",
   "execution_count": 1,
   "id": "76917778-b3fe-473f-82b5-5091b951ed1b",
   "metadata": {},
   "outputs": [],
   "source": [
    "import pandas as pd\n",
    "from sklearn.metrics.pairwise import cosine_similarity"
   ]
  },
  {
   "cell_type": "code",
   "execution_count": 2,
   "id": "487123ef-8aa5-4da0-bebc-ab53c1ceb06e",
   "metadata": {},
   "outputs": [],
   "source": [
    "ratings_small_training_csv = \"../data/ratings_small_training.csv\"\n",
    "ratings_small_test_csv = \"../data/ratings_small_test.csv\"\n",
    "\n",
    "with open(ratings_small_training_csv, \"rb\") as training_csv:\n",
    "    train_data = pd.read_csv(training_csv)\n",
    "\n",
    "with open(ratings_small_test_csv, \"rb\") as test_csv:\n",
    "    test_data = pd.read_csv(test_csv)\n",
    "\n",
    "train_data.rename(columns={'userId': 'userid', 'movieId': 'movieid'}, inplace=True)\n",
    "test_data.rename(columns={'userid': 'userid', 'movieid': 'movieid'}, inplace=True)"
   ]
  },
  {
   "cell_type": "code",
   "execution_count": 3,
   "id": "e4a72ff6-ff9d-4f8e-a27c-f6f04eaff41b",
   "metadata": {},
   "outputs": [],
   "source": [
    "def predict_using_ubcf(user_id, movie_id, train_data, user_similarity_matrix, k=4):\n",
    "    \"\"\"\n",
    "    Predict the rating of a user for a given movie using User-Based Collaborative Filtering (UBCF).\n",
    "\n",
    "    Parameters:\n",
    "    - user_id (int): The ID of the target user.\n",
    "    - movie_id (int): The ID of the target movie.\n",
    "    - train_data (DataFrame): The training dataset containing user-item ratings.\n",
    "    - user_similarity_matrix (ndarray): The similarity matrix between users.\n",
    "    - k (int): The number of similar users to consider. Default is 4.\n",
    "\n",
    "    Returns:\n",
    "    - float: The predicted rating for the target user and movie, or the average rating of the item if no similar items are found.\n",
    "    \"\"\"\n",
    "    user_ratings = train_data[train_data['userid'] == user_id].set_index('movieid')['rating']\n",
    "    user_similarities = user_similarity_matrix[user_id - 1]\n",
    "    similar_users = user_similarities.argsort()[::-1][1:k+1]\n",
    "\n",
    "    weighted_sum = 0\n",
    "    similarity_sum = 0\n",
    "    for similar_user_id in similar_users:\n",
    "        similar_user_rating = train_data[(train_data['userid'] == similar_user_id) & (train_data['movieid'] == movie_id)]['rating']\n",
    "        if not similar_user_rating.empty:\n",
    "            similarity = user_similarities[similar_user_id - 1]\n",
    "            weighted_sum += similarity * similar_user_rating.values[0]\n",
    "            similarity_sum += similarity\n",
    "\n",
    "    if similarity_sum == 0:\n",
    "        # Return the average rating of the user if no similar users are found\n",
    "        return user_ratings.mean()\n",
    "\n",
    "    predicted_rating = weighted_sum / similarity_sum\n",
    "    return predicted_rating"
   ]
  },
  {
   "cell_type": "code",
   "execution_count": 4,
   "id": "214a4262-a41a-4c51-bb43-c3a049f99a05",
   "metadata": {},
   "outputs": [],
   "source": [
    "def predict_using_ibcf(user_id, movie_id, train_data, item_similarity_matrix, k=4):\n",
    "    \"\"\"\n",
    "    Predict the rating of a user for a given movie using Item-Based Collaborative Filtering (IBCF).\n",
    "\n",
    "    Parameters:\n",
    "    - user_id (int): The ID of the target user.\n",
    "    - movie_id (int): The ID of the target movie.\n",
    "    - train_data (DataFrame): The training dataset containing user-item ratings.\n",
    "    - item_similarity_matrix (ndarray): The similarity matrix between items.\n",
    "    - k (int): The number of similar items to consider. Default is 4.\n",
    "\n",
    "    Returns:\n",
    "    - float: The predicted rating for the target user and movie, or the average rating of the item if no similar items are found.\n",
    "    \"\"\"\n",
    "    user_ratings = train_data[train_data['userid'] == user_id].set_index('movieid')['rating']\n",
    "    item_similarities = item_similarity_matrix[movie_id - 1]\n",
    "    similar_items = item_similarities.argsort()[::-1][1:k+1]\n",
    "\n",
    "    weighted_sum = 0\n",
    "    similarity_sum = 0\n",
    "    for similar_item_id in similar_items:\n",
    "        similar_item_rating = user_ratings.get(similar_item_id)\n",
    "        if similar_item_rating is not None:\n",
    "            similarity = item_similarities[similar_item_id - 1]\n",
    "            weighted_sum += similarity * similar_item_rating\n",
    "            similarity_sum += similarity\n",
    "\n",
    "    if similarity_sum == 0:\n",
    "        return train_data[train_data['movieid'] == movie_id]['rating'].mean()\n",
    "\n",
    "    predicted_rating = weighted_sum / similarity_sum\n",
    "    return predicted_rating"
   ]
  },
  {
   "cell_type": "code",
   "execution_count": 5,
   "id": "8cd90791-ef3d-4d6d-b055-60060a0c8c28",
   "metadata": {},
   "outputs": [
    {
     "name": "stdout",
     "output_type": "stream",
     "text": [
      "[[1.         0.         0.         ... 0.06291708 0.         0.01746565]\n",
      " [0.         1.         0.10155486 ... 0.02425089 0.17137938 0.11369591]\n",
      " [0.         0.10155486 1.         ... 0.08152754 0.11141105 0.17133542]\n",
      " ...\n",
      " [0.06291708 0.02425089 0.08152754 ... 1.         0.04260878 0.08520194]\n",
      " [0.         0.17137938 0.11141105 ... 0.04260878 1.         0.22867673]\n",
      " [0.01746565 0.11369591 0.17133542 ... 0.08520194 0.22867673 1.        ]]\n"
     ]
    }
   ],
   "source": [
    "user_similarity_matrix = cosine_similarity(train_data.pivot(index='userid', columns='movieid', values='rating').fillna(0))\n",
    "\n",
    "print(user_similarity_matrix)"
   ]
  },
  {
   "cell_type": "code",
   "execution_count": 6,
   "id": "7c323052-158e-4a32-ad66-a0b8cae12697",
   "metadata": {},
   "outputs": [
    {
     "name": "stdout",
     "output_type": "stream",
     "text": [
      "[[1.         0.39451145 0.30651588 ... 0.         0.         0.05582876]\n",
      " [0.39451145 1.         0.21749153 ... 0.         0.         0.        ]\n",
      " [0.30651588 0.21749153 1.         ... 0.         0.         0.        ]\n",
      " ...\n",
      " [0.         0.         0.         ... 1.         1.         0.        ]\n",
      " [0.         0.         0.         ... 1.         1.         0.        ]\n",
      " [0.05582876 0.         0.         ... 0.         0.         1.        ]]\n"
     ]
    }
   ],
   "source": [
    "item_similarity_matrix = cosine_similarity(train_data.pivot(index='movieid', columns='userid', values='rating').fillna(0))\n",
    "\n",
    "print(item_similarity_matrix)"
   ]
  },
  {
   "cell_type": "code",
   "execution_count": 7,
   "id": "9c056aee-b496-4538-a9b6-6fe59f6a0f9a",
   "metadata": {},
   "outputs": [],
   "source": [
    "test_data['predicted_rating'] = test_data.apply(lambda x: \n",
    "    0.7 * predict_using_ubcf(x['userid'], x['movieid'], train_data, user_similarity_matrix) +\n",
    "    0.3 * predict_using_ibcf(x['userid'], x['movieid'], train_data, item_similarity_matrix), axis=1)"
   ]
  },
  {
   "cell_type": "code",
   "execution_count": 8,
   "id": "14059e58-192e-4121-99b3-f34ded2bbb57",
   "metadata": {},
   "outputs": [
    {
     "data": {
      "text/html": [
       "<div>\n",
       "<style scoped>\n",
       "    .dataframe tbody tr th:only-of-type {\n",
       "        vertical-align: middle;\n",
       "    }\n",
       "\n",
       "    .dataframe tbody tr th {\n",
       "        vertical-align: top;\n",
       "    }\n",
       "\n",
       "    .dataframe thead th {\n",
       "        text-align: right;\n",
       "    }\n",
       "</style>\n",
       "<table border=\"1\" class=\"dataframe\">\n",
       "  <thead>\n",
       "    <tr style=\"text-align: right;\">\n",
       "      <th></th>\n",
       "      <th>userid</th>\n",
       "      <th>movieid</th>\n",
       "      <th>predicted_rating</th>\n",
       "    </tr>\n",
       "  </thead>\n",
       "  <tbody>\n",
       "    <tr>\n",
       "      <th>0</th>\n",
       "      <td>1</td>\n",
       "      <td>1339</td>\n",
       "      <td>2.774423</td>\n",
       "    </tr>\n",
       "    <tr>\n",
       "      <th>1</th>\n",
       "      <td>2</td>\n",
       "      <td>377</td>\n",
       "      <td>3.520950</td>\n",
       "    </tr>\n",
       "    <tr>\n",
       "      <th>2</th>\n",
       "      <td>3</td>\n",
       "      <td>527</td>\n",
       "      <td>4.092593</td>\n",
       "    </tr>\n",
       "    <tr>\n",
       "      <th>3</th>\n",
       "      <td>4</td>\n",
       "      <td>112</td>\n",
       "      <td>4.019504</td>\n",
       "    </tr>\n",
       "    <tr>\n",
       "      <th>4</th>\n",
       "      <td>5</td>\n",
       "      <td>150</td>\n",
       "      <td>3.620603</td>\n",
       "    </tr>\n",
       "    <tr>\n",
       "      <th>5</th>\n",
       "      <td>6</td>\n",
       "      <td>2072</td>\n",
       "      <td>3.170930</td>\n",
       "    </tr>\n",
       "    <tr>\n",
       "      <th>6</th>\n",
       "      <td>7</td>\n",
       "      <td>333</td>\n",
       "      <td>3.422136</td>\n",
       "    </tr>\n",
       "    <tr>\n",
       "      <th>7</th>\n",
       "      <td>8</td>\n",
       "      <td>805</td>\n",
       "      <td>3.756466</td>\n",
       "    </tr>\n",
       "    <tr>\n",
       "      <th>8</th>\n",
       "      <td>9</td>\n",
       "      <td>608</td>\n",
       "      <td>3.969122</td>\n",
       "    </tr>\n",
       "    <tr>\n",
       "      <th>9</th>\n",
       "      <td>10</td>\n",
       "      <td>1127</td>\n",
       "      <td>3.664365</td>\n",
       "    </tr>\n",
       "  </tbody>\n",
       "</table>\n",
       "</div>"
      ],
      "text/plain": [
       "   userid  movieid  predicted_rating\n",
       "0       1     1339          2.774423\n",
       "1       2      377          3.520950\n",
       "2       3      527          4.092593\n",
       "3       4      112          4.019504\n",
       "4       5      150          3.620603\n",
       "5       6     2072          3.170930\n",
       "6       7      333          3.422136\n",
       "7       8      805          3.756466\n",
       "8       9      608          3.969122\n",
       "9      10     1127          3.664365"
      ]
     },
     "execution_count": 8,
     "metadata": {},
     "output_type": "execute_result"
    }
   ],
   "source": [
    "test_data"
   ]
  },
  {
   "cell_type": "code",
   "execution_count": 9,
   "id": "9c3fafa4-4828-4c79-86ef-6a40ada0b5ec",
   "metadata": {},
   "outputs": [],
   "source": [
    "ratings_small_test_predicted_csv = \"../data/ratings_small_test_predicted.csv\"\n",
    "with open(ratings_small_test_predicted_csv, \"wb\") as output_data:\n",
    "    test_data.to_csv(output_data, index=False)"
   ]
  }
 ],
 "metadata": {
  "kernelspec": {
   "display_name": "Python 3 (ipykernel)",
   "language": "python",
   "name": "python3"
  },
  "language_info": {
   "codemirror_mode": {
    "name": "ipython",
    "version": 3
   },
   "file_extension": ".py",
   "mimetype": "text/x-python",
   "name": "python",
   "nbconvert_exporter": "python",
   "pygments_lexer": "ipython3",
   "version": "3.10.12"
  }
 },
 "nbformat": 4,
 "nbformat_minor": 5
}

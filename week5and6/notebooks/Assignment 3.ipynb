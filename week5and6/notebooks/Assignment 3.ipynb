{
 "cells": [
  {
   "cell_type": "markdown",
   "id": "89f80ec6-0603-4a47-8e13-32ea9abaf201",
   "metadata": {},
   "source": [
    "# Assignment 3\n",
    "> Benzon Carlitos Salazar"
   ]
  },
  {
   "cell_type": "code",
   "execution_count": 1,
   "id": "23bb1d7d-1699-49a2-83d2-72c16a7b1fa3",
   "metadata": {},
   "outputs": [],
   "source": [
    "import pandas as pd"
   ]
  },
  {
   "cell_type": "code",
   "execution_count": 2,
   "id": "188102fe-0941-4021-888e-9c6d79670e51",
   "metadata": {},
   "outputs": [],
   "source": [
    "movie_data_csv = \"../data/movie_data.csv\"\n",
    "rt_movie_data_csv = \"../data/rt_movie_data.csv\"\n",
    "\n",
    "# Load table A and table B\n",
    "table_a = pd.read_csv(movie_data_csv)\n",
    "table_b = pd.read_csv(rt_movie_data_csv)\n",
    "\n",
    "table_a.reset_index(drop=True, inplace=True)\n",
    "table_b.reset_index(drop=True, inplace=True)"
   ]
  },
  {
   "cell_type": "code",
   "execution_count": 3,
   "id": "10ab45ff-0ae7-48fb-9e4d-fbc40138e13c",
   "metadata": {},
   "outputs": [],
   "source": [
    "table_c = []"
   ]
  },
  {
   "cell_type": "code",
   "execution_count": 4,
   "id": "04efeab4-a4b3-4eb1-afbe-6f5a4f22ef0b",
   "metadata": {},
   "outputs": [],
   "source": [
    "# Counter for generating IDs in table C\n",
    "counter = 0"
   ]
  },
  {
   "cell_type": "code",
   "execution_count": 5,
   "id": "316378c2-b668-4ec9-a456-cc1b6bdf5a33",
   "metadata": {},
   "outputs": [],
   "source": [
    "# Loop through each row in table A and table B to find matching tuples\n",
    "for _, row_a in table_a.iterrows():\n",
    "    for _, row_b in table_b.iterrows():\n",
    "        # Your matching logic goes here\n",
    "        if row_a['Year'] == row_b['Year']:\n",
    "            # If a match is found, add the tuple pair to table C\n",
    "            table_c.append({'ID': counter, \n",
    "                            'ltable_ID': row_a['ID'], \n",
    "                            'rtable_ID': row_b['ID'], \n",
    "                            **row_a[1:].to_dict(), \n",
    "                            **row_b[1:].to_dict()})\n",
    "            counter += 1"
   ]
  },
  {
   "cell_type": "code",
   "execution_count": 6,
   "id": "13636cd9-b03b-4202-9594-90970f6500f4",
   "metadata": {},
   "outputs": [],
   "source": [
    "table_c = pd.DataFrame(table_c)"
   ]
  },
  {
   "cell_type": "code",
   "execution_count": 7,
   "id": "4a29ae8f-298b-4f90-a030-98997338e9ba",
   "metadata": {},
   "outputs": [
    {
     "data": {
      "text/html": [
       "<div>\n",
       "<style scoped>\n",
       "    .dataframe tbody tr th:only-of-type {\n",
       "        vertical-align: middle;\n",
       "    }\n",
       "\n",
       "    .dataframe tbody tr th {\n",
       "        vertical-align: top;\n",
       "    }\n",
       "\n",
       "    .dataframe thead th {\n",
       "        text-align: right;\n",
       "    }\n",
       "</style>\n",
       "<table border=\"1\" class=\"dataframe\">\n",
       "  <thead>\n",
       "    <tr style=\"text-align: right;\">\n",
       "      <th></th>\n",
       "      <th>ID</th>\n",
       "      <th>ltable_ID</th>\n",
       "      <th>rtable_ID</th>\n",
       "      <th>Title</th>\n",
       "      <th>Year</th>\n",
       "      <th>Rating</th>\n",
       "      <th>Rank</th>\n",
       "    </tr>\n",
       "  </thead>\n",
       "  <tbody>\n",
       "    <tr>\n",
       "      <th>0</th>\n",
       "      <td>0</td>\n",
       "      <td>42b83ba8-0168-450c-b224-9115721353cb</td>\n",
       "      <td>16962e08-8bbb-486b-a7d1-6c224a4a6a06</td>\n",
       "      <td>Aguirre: The Wrath of God</td>\n",
       "      <td>1972</td>\n",
       "      <td>96</td>\n",
       "      <td>465</td>\n",
       "    </tr>\n",
       "    <tr>\n",
       "      <th>1</th>\n",
       "      <td>1</td>\n",
       "      <td>42b83ba8-0168-450c-b224-9115721353cb</td>\n",
       "      <td>511d0bbf-13df-43e4-b674-1acb9c3940bc</td>\n",
       "      <td>Cabaret</td>\n",
       "      <td>1972</td>\n",
       "      <td>93</td>\n",
       "      <td>466</td>\n",
       "    </tr>\n",
       "    <tr>\n",
       "      <th>2</th>\n",
       "      <td>2</td>\n",
       "      <td>42b83ba8-0168-450c-b224-9115721353cb</td>\n",
       "      <td>895e53e5-a0a6-4dfc-aaf3-74369f06c410</td>\n",
       "      <td>Deliverance</td>\n",
       "      <td>1972</td>\n",
       "      <td>89</td>\n",
       "      <td>467</td>\n",
       "    </tr>\n",
       "    <tr>\n",
       "      <th>3</th>\n",
       "      <td>3</td>\n",
       "      <td>42b83ba8-0168-450c-b224-9115721353cb</td>\n",
       "      <td>c8267911-803d-400d-b4d6-61d668e941ff</td>\n",
       "      <td>Fat City</td>\n",
       "      <td>1972</td>\n",
       "      <td>100</td>\n",
       "      <td>468</td>\n",
       "    </tr>\n",
       "    <tr>\n",
       "      <th>4</th>\n",
       "      <td>4</td>\n",
       "      <td>42b83ba8-0168-450c-b224-9115721353cb</td>\n",
       "      <td>3002eced-5699-4b0e-972e-4dc242fb6413</td>\n",
       "      <td>Jeremiah Johnson</td>\n",
       "      <td>1972</td>\n",
       "      <td>95</td>\n",
       "      <td>469</td>\n",
       "    </tr>\n",
       "  </tbody>\n",
       "</table>\n",
       "</div>"
      ],
      "text/plain": [
       "   ID                             ltable_ID  \\\n",
       "0   0  42b83ba8-0168-450c-b224-9115721353cb   \n",
       "1   1  42b83ba8-0168-450c-b224-9115721353cb   \n",
       "2   2  42b83ba8-0168-450c-b224-9115721353cb   \n",
       "3   3  42b83ba8-0168-450c-b224-9115721353cb   \n",
       "4   4  42b83ba8-0168-450c-b224-9115721353cb   \n",
       "\n",
       "                              rtable_ID                      Title  Year  \\\n",
       "0  16962e08-8bbb-486b-a7d1-6c224a4a6a06  Aguirre: The Wrath of God  1972   \n",
       "1  511d0bbf-13df-43e4-b674-1acb9c3940bc                    Cabaret  1972   \n",
       "2  895e53e5-a0a6-4dfc-aaf3-74369f06c410                Deliverance  1972   \n",
       "3  c8267911-803d-400d-b4d6-61d668e941ff                   Fat City  1972   \n",
       "4  3002eced-5699-4b0e-972e-4dc242fb6413           Jeremiah Johnson  1972   \n",
       "\n",
       "   Rating  Rank  \n",
       "0      96   465  \n",
       "1      93   466  \n",
       "2      89   467  \n",
       "3     100   468  \n",
       "4      95   469  "
      ]
     },
     "execution_count": 7,
     "metadata": {},
     "output_type": "execute_result"
    }
   ],
   "source": [
    "table_c.head()"
   ]
  },
  {
   "cell_type": "code",
   "execution_count": 8,
   "id": "6227f38f-f7a1-4199-aacd-c7ebb8010fc3",
   "metadata": {},
   "outputs": [],
   "source": [
    "# Save table C to a CSV file\n",
    "with open(\"../data/table_C.csv\", \"wb\") as table_c_out:\n",
    "    table_c.to_csv(table_c_out, index=False)"
   ]
  },
  {
   "cell_type": "code",
   "execution_count": 9,
   "id": "31725862-0738-4e68-92b5-3202a9f91f11",
   "metadata": {},
   "outputs": [
    {
     "name": "stdout",
     "output_type": "stream",
     "text": [
      "Size of Table A: Number of rows = 1000\n",
      "Size of Table B: Number of rows = 1000\n",
      "Total Number of Tuple Pairs in Cartesian Product of A and B: 1000000\n",
      "Total Number of Tuple Pairs in Table C: Number of rows = 10646\n"
     ]
    }
   ],
   "source": [
    "print(f\"Size of Table A: Number of rows = {len(table_a)}\")\n",
    "print(f\"Size of Table B: Number of rows = {len(table_b)}\")\n",
    "print(f\"Total Number of Tuple Pairs in Cartesian Product of A and B: {len(table_a) * len(table_b)}\")\n",
    "print(f\"Total Number of Tuple Pairs in Table C: Number of rows = {len(table_c)}\")"
   ]
  },
  {
   "cell_type": "code",
   "execution_count": null,
   "id": "3ab5db33-4ddd-4a48-b1b6-1f23bd24eb9f",
   "metadata": {},
   "outputs": [],
   "source": []
  }
 ],
 "metadata": {
  "kernelspec": {
   "display_name": "Python 3 (ipykernel)",
   "language": "python",
   "name": "python3"
  },
  "language_info": {
   "codemirror_mode": {
    "name": "ipython",
    "version": 3
   },
   "file_extension": ".py",
   "mimetype": "text/x-python",
   "name": "python",
   "nbconvert_exporter": "python",
   "pygments_lexer": "ipython3",
   "version": "3.10.12"
  }
 },
 "nbformat": 4,
 "nbformat_minor": 5
}

{
 "cells": [
  {
   "cell_type": "code",
   "execution_count": 7,
   "id": "92155ad2-1f53-4d2b-98c0-c37f7d228404",
   "metadata": {},
   "outputs": [],
   "source": [
    "import pandas as pd\n",
    "from sklearn.preprocessing import StandardScaler\n",
    "from sklearn.cluster import KMeans"
   ]
  },
  {
   "cell_type": "code",
   "execution_count": 8,
   "id": "bb62415f-6fd0-4fa2-b752-a1f1446b70fc",
   "metadata": {},
   "outputs": [],
   "source": [
    "usa_arrests_csv = \"../data/USArrests.csv\"\n",
    "\n",
    "with open(usa_arrests_csv, \"r\") as usa_arrests_infile:\n",
    "    usa_arrests_df = pd.read_csv(usa_arrests_infile)"
   ]
  },
  {
   "cell_type": "code",
   "execution_count": 9,
   "id": "325b7bc9-e1dc-4bec-9322-7e7dfc66455a",
   "metadata": {},
   "outputs": [
    {
     "data": {
      "text/html": [
       "<div>\n",
       "<style scoped>\n",
       "    .dataframe tbody tr th:only-of-type {\n",
       "        vertical-align: middle;\n",
       "    }\n",
       "\n",
       "    .dataframe tbody tr th {\n",
       "        vertical-align: top;\n",
       "    }\n",
       "\n",
       "    .dataframe thead th {\n",
       "        text-align: right;\n",
       "    }\n",
       "</style>\n",
       "<table border=\"1\" class=\"dataframe\">\n",
       "  <thead>\n",
       "    <tr style=\"text-align: right;\">\n",
       "      <th></th>\n",
       "      <th>State</th>\n",
       "      <th>Murder</th>\n",
       "      <th>Assault</th>\n",
       "      <th>UrbanPop</th>\n",
       "      <th>Rape</th>\n",
       "    </tr>\n",
       "  </thead>\n",
       "  <tbody>\n",
       "    <tr>\n",
       "      <th>0</th>\n",
       "      <td>Alabama</td>\n",
       "      <td>13.2</td>\n",
       "      <td>236</td>\n",
       "      <td>58</td>\n",
       "      <td>21.2</td>\n",
       "    </tr>\n",
       "    <tr>\n",
       "      <th>1</th>\n",
       "      <td>Alaska</td>\n",
       "      <td>10.0</td>\n",
       "      <td>263</td>\n",
       "      <td>48</td>\n",
       "      <td>44.5</td>\n",
       "    </tr>\n",
       "    <tr>\n",
       "      <th>2</th>\n",
       "      <td>Arizona</td>\n",
       "      <td>8.1</td>\n",
       "      <td>294</td>\n",
       "      <td>80</td>\n",
       "      <td>31.0</td>\n",
       "    </tr>\n",
       "    <tr>\n",
       "      <th>3</th>\n",
       "      <td>Arkansas</td>\n",
       "      <td>8.8</td>\n",
       "      <td>190</td>\n",
       "      <td>50</td>\n",
       "      <td>19.5</td>\n",
       "    </tr>\n",
       "    <tr>\n",
       "      <th>4</th>\n",
       "      <td>California</td>\n",
       "      <td>9.0</td>\n",
       "      <td>276</td>\n",
       "      <td>91</td>\n",
       "      <td>40.6</td>\n",
       "    </tr>\n",
       "  </tbody>\n",
       "</table>\n",
       "</div>"
      ],
      "text/plain": [
       "        State  Murder  Assault  UrbanPop  Rape\n",
       "0     Alabama    13.2      236        58  21.2\n",
       "1      Alaska    10.0      263        48  44.5\n",
       "2     Arizona     8.1      294        80  31.0\n",
       "3    Arkansas     8.8      190        50  19.5\n",
       "4  California     9.0      276        91  40.6"
      ]
     },
     "execution_count": 9,
     "metadata": {},
     "output_type": "execute_result"
    }
   ],
   "source": [
    "usa_arrests_df.head()"
   ]
  },
  {
   "cell_type": "code",
   "execution_count": 10,
   "id": "b9140cbb-465e-42c9-8bc6-7703aa9a6671",
   "metadata": {},
   "outputs": [],
   "source": [
    "# Select the variables for clustering\n",
    "X = usa_arrests_df[['Murder', 'Assault', 'UrbanPop', 'Rape']]"
   ]
  },
  {
   "cell_type": "code",
   "execution_count": 11,
   "id": "65c16206-ed84-483b-8677-20b99a129188",
   "metadata": {},
   "outputs": [],
   "source": [
    "# Scale the data\n",
    "scaler = StandardScaler()\n",
    "X_scaled = scaler.fit_transform(X)"
   ]
  },
  {
   "cell_type": "code",
   "execution_count": 12,
   "id": "20c74eb0-986d-4e6f-b116-e751f73e228f",
   "metadata": {},
   "outputs": [],
   "source": [
    "# Perform K-means clustering with K=4\n",
    "kmeans = KMeans(n_clusters=4, random_state=42)\n",
    "usa_arrests_df['Cluster'] = kmeans.fit_predict(X_scaled)"
   ]
  },
  {
   "cell_type": "code",
   "execution_count": 13,
   "id": "78dff9dc-695e-432d-827b-2ab75bf950b6",
   "metadata": {},
   "outputs": [
    {
     "name": "stdout",
     "output_type": "stream",
     "text": [
      "Cluster 1:\n",
      "  - Murder: 3.60\n",
      "  - Assault: 78.54\n",
      "  - UrbanPop: 52.08\n",
      "  - Rape: 12.18\n",
      "\n",
      "Cluster 2:\n",
      "  - Murder: 13.94\n",
      "  - Assault: 243.62\n",
      "  - UrbanPop: 53.75\n",
      "  - Rape: 21.41\n",
      "\n",
      "Cluster 3:\n",
      "  - Murder: 10.97\n",
      "  - Assault: 264.00\n",
      "  - UrbanPop: 76.50\n",
      "  - Rape: 33.61\n",
      "\n",
      "Cluster 4:\n",
      "  - Murder: 5.85\n",
      "  - Assault: 141.18\n",
      "  - UrbanPop: 73.65\n",
      "  - Rape: 19.34\n",
      "\n"
     ]
    }
   ],
   "source": [
    "# Qualitative description of each cluster\n",
    "cluster_centers = scaler.inverse_transform(kmeans.cluster_centers_)\n",
    "cluster_labels = ['Cluster 1', 'Cluster 2', 'Cluster 3', 'Cluster 4']\n",
    "for i, center in enumerate(cluster_centers):\n",
    "    print(f\"{cluster_labels[i]}:\")\n",
    "    print(f\"  - Murder: {center[0]:.2f}\")\n",
    "    print(f\"  - Assault: {center[1]:.2f}\")\n",
    "    print(f\"  - UrbanPop: {center[2]:.2f}\")\n",
    "    print(f\"  - Rape: {center[3]:.2f}\")\n",
    "    print()"
   ]
  },
  {
   "cell_type": "code",
   "execution_count": null,
   "id": "f89a214f-6dbc-462f-a075-e25124ebd229",
   "metadata": {},
   "outputs": [],
   "source": []
  },
  {
   "cell_type": "code",
   "execution_count": null,
   "id": "b8daffb3-889d-4118-96dd-1c768720e7e8",
   "metadata": {},
   "outputs": [],
   "source": []
  }
 ],
 "metadata": {
  "kernelspec": {
   "display_name": "Python 3 (ipykernel)",
   "language": "python",
   "name": "python3"
  },
  "language_info": {
   "codemirror_mode": {
    "name": "ipython",
    "version": 3
   },
   "file_extension": ".py",
   "mimetype": "text/x-python",
   "name": "python",
   "nbconvert_exporter": "python",
   "pygments_lexer": "ipython3",
   "version": "3.10.12"
  }
 },
 "nbformat": 4,
 "nbformat_minor": 5
}

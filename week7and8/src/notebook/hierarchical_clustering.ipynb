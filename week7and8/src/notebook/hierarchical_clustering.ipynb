{
 "cells": [
  {
   "cell_type": "code",
   "execution_count": 1,
   "id": "92155ad2-1f53-4d2b-98c0-c37f7d228404",
   "metadata": {},
   "outputs": [],
   "source": [
    "import numpy as np\n",
    "import pandas as pd\n",
    "from sklearn.preprocessing import StandardScaler"
   ]
  },
  {
   "cell_type": "code",
   "execution_count": 2,
   "id": "bb62415f-6fd0-4fa2-b752-a1f1446b70fc",
   "metadata": {},
   "outputs": [],
   "source": [
    "usa_arrests_csv = \"../data/USArrests.csv\"\n",
    "\n",
    "with open(usa_arrests_csv, \"r\") as usa_arrests_infile:\n",
    "    usa_arrests_df = pd.read_csv(usa_arrests_infile)"
   ]
  },
  {
   "cell_type": "code",
   "execution_count": 3,
   "id": "325b7bc9-e1dc-4bec-9322-7e7dfc66455a",
   "metadata": {},
   "outputs": [
    {
     "data": {
      "text/html": [
       "<div>\n",
       "<style scoped>\n",
       "    .dataframe tbody tr th:only-of-type {\n",
       "        vertical-align: middle;\n",
       "    }\n",
       "\n",
       "    .dataframe tbody tr th {\n",
       "        vertical-align: top;\n",
       "    }\n",
       "\n",
       "    .dataframe thead th {\n",
       "        text-align: right;\n",
       "    }\n",
       "</style>\n",
       "<table border=\"1\" class=\"dataframe\">\n",
       "  <thead>\n",
       "    <tr style=\"text-align: right;\">\n",
       "      <th></th>\n",
       "      <th>State</th>\n",
       "      <th>Murder</th>\n",
       "      <th>Assault</th>\n",
       "      <th>UrbanPop</th>\n",
       "      <th>Rape</th>\n",
       "    </tr>\n",
       "  </thead>\n",
       "  <tbody>\n",
       "    <tr>\n",
       "      <th>0</th>\n",
       "      <td>Alabama</td>\n",
       "      <td>13.2</td>\n",
       "      <td>236</td>\n",
       "      <td>58</td>\n",
       "      <td>21.2</td>\n",
       "    </tr>\n",
       "    <tr>\n",
       "      <th>1</th>\n",
       "      <td>Alaska</td>\n",
       "      <td>10.0</td>\n",
       "      <td>263</td>\n",
       "      <td>48</td>\n",
       "      <td>44.5</td>\n",
       "    </tr>\n",
       "    <tr>\n",
       "      <th>2</th>\n",
       "      <td>Arizona</td>\n",
       "      <td>8.1</td>\n",
       "      <td>294</td>\n",
       "      <td>80</td>\n",
       "      <td>31.0</td>\n",
       "    </tr>\n",
       "    <tr>\n",
       "      <th>3</th>\n",
       "      <td>Arkansas</td>\n",
       "      <td>8.8</td>\n",
       "      <td>190</td>\n",
       "      <td>50</td>\n",
       "      <td>19.5</td>\n",
       "    </tr>\n",
       "    <tr>\n",
       "      <th>4</th>\n",
       "      <td>California</td>\n",
       "      <td>9.0</td>\n",
       "      <td>276</td>\n",
       "      <td>91</td>\n",
       "      <td>40.6</td>\n",
       "    </tr>\n",
       "  </tbody>\n",
       "</table>\n",
       "</div>"
      ],
      "text/plain": [
       "        State  Murder  Assault  UrbanPop  Rape\n",
       "0     Alabama    13.2      236        58  21.2\n",
       "1      Alaska    10.0      263        48  44.5\n",
       "2     Arizona     8.1      294        80  31.0\n",
       "3    Arkansas     8.8      190        50  19.5\n",
       "4  California     9.0      276        91  40.6"
      ]
     },
     "execution_count": 3,
     "metadata": {},
     "output_type": "execute_result"
    }
   ],
   "source": [
    "usa_arrests_df.head()"
   ]
  },
  {
   "cell_type": "code",
   "execution_count": 4,
   "id": "f89a214f-6dbc-462f-a075-e25124ebd229",
   "metadata": {},
   "outputs": [],
   "source": [
    "# Select the variables for clustering\n",
    "X = usa_arrests_df[['Murder', 'Assault', 'UrbanPop', 'Rape']]"
   ]
  },
  {
   "cell_type": "code",
   "execution_count": 5,
   "id": "cae643bf-566c-40e2-9e99-80ee855fbc90",
   "metadata": {},
   "outputs": [],
   "source": [
    "# Scale the data\n",
    "scaler = StandardScaler()\n",
    "X_scaled = scaler.fit_transform(X)"
   ]
  },
  {
   "cell_type": "code",
   "execution_count": 6,
   "id": "5bb8587e-cf34-45ad-8dde-cc6934117fb0",
   "metadata": {},
   "outputs": [],
   "source": [
    "def euclidean_distance(p, q):\n",
    "    return np.sqrt(np.sum((q - p) ** 2))"
   ]
  },
  {
   "cell_type": "code",
   "execution_count": 17,
   "id": "b891f454-ffc1-4a5d-945b-17e406603b12",
   "metadata": {},
   "outputs": [],
   "source": [
    "def min_similarity(cluster1, cluster2):\n",
    "    min_distance = np.inf\n",
    "    for point1 in cluster1:\n",
    "        for point2 in cluster2:\n",
    "            distance = euclidean_distance(point1, point2)\n",
    "            if distance < min_distance:\n",
    "                min_distance = distance\n",
    "    return min_distance"
   ]
  },
  {
   "cell_type": "code",
   "execution_count": 18,
   "id": "1704959d-3229-4d83-a07c-85752520ae58",
   "metadata": {},
   "outputs": [],
   "source": [
    "def max_similarity(cluster1, cluster2):\n",
    "    max_distance = 0\n",
    "    for point1 in cluster1:\n",
    "        for point2 in cluster2:\n",
    "            distance = euclidean_distance(point1, point2)\n",
    "            if distance > max_distance:\n",
    "                max_distance = distance\n",
    "    return max_distance"
   ]
  },
  {
   "cell_type": "code",
   "execution_count": 19,
   "id": "52a7aa2c-e1a9-448a-b35d-3cad42598450",
   "metadata": {},
   "outputs": [],
   "source": [
    "def average_similarity(cluster1, cluster2):\n",
    "    total_distance = 0\n",
    "    count = 0\n",
    "    for point1 in cluster1:\n",
    "        for point2 in cluster2:\n",
    "            total_distance += euclidean_distance(point1, point2)\n",
    "            count += 1\n",
    "    return total_distance / count"
   ]
  },
  {
   "cell_type": "code",
   "execution_count": 25,
   "id": "6b6f5207-332d-44bb-975c-13f02fe2a406",
   "metadata": {},
   "outputs": [],
   "source": [
    "def hierarchical_clustering(data, similarity_measure):\n",
    "    clusters = [[i] for i in range(len(data))]  # Each data point is initially a cluster\n",
    "\n",
    "    while len(clusters) > 1:\n",
    "        min_distance = np.inf\n",
    "        min_indices = None\n",
    "\n",
    "        for i in range(len(clusters)):\n",
    "            for j in range(i + 1, len(clusters)):\n",
    "                distance = similarity_measure(data[clusters[i]], data[clusters[j]])\n",
    "                if distance < min_distance:\n",
    "                    min_distance = distance\n",
    "                    min_indices = (i, j)\n",
    "\n",
    "        i, j = min_indices\n",
    "        new_cluster = clusters[i] + clusters[j]  # Merge clusters\n",
    "        updated_clusters = [cluster for idx, cluster in enumerate(clusters) if idx not in (i, j)]\n",
    "        updated_clusters.append(new_cluster)\n",
    "        clusters = updated_clusters\n",
    "\n",
    "        yield clusters"
   ]
  },
  {
   "cell_type": "code",
   "execution_count": 26,
   "id": "6464b337-8f72-49f1-abd3-dd900999ea77",
   "metadata": {},
   "outputs": [],
   "source": [
    "# Perform hierarchical clustering with Min similarity measure\n",
    "min_clusters = list(hierarchical_clustering(X_scaled, min_similarity))"
   ]
  },
  {
   "cell_type": "code",
   "execution_count": 27,
   "id": "a0d6487e-7004-421f-a130-5171665de00b",
   "metadata": {},
   "outputs": [],
   "source": [
    "# Perform hierarchical clustering with Max similarity measure\n",
    "max_clusters = list(hierarchical_clustering(X_scaled, max_similarity))"
   ]
  },
  {
   "cell_type": "code",
   "execution_count": 28,
   "id": "b0e3188d-6963-49e1-9fb0-990eb94f5ed5",
   "metadata": {},
   "outputs": [],
   "source": [
    "# Perform hierarchical clustering with Average similarity measure\n",
    "average_clusters = list(hierarchical_clustering(X_scaled, average_similarity))"
   ]
  },
  {
   "cell_type": "code",
   "execution_count": 29,
   "id": "1d8d5d3f-c590-4061-9f34-ee1537431bff",
   "metadata": {},
   "outputs": [
    {
     "name": "stdout",
     "output_type": "stream",
     "text": [
      "Min similarity measure:\n",
      "Iteration 1: Number of clusters = 49\n",
      "Iteration 2: Number of clusters = 48\n",
      "Iteration 3: Number of clusters = 47\n",
      "Iteration 4: Number of clusters = 46\n",
      "Iteration 5: Number of clusters = 45\n",
      "Iteration 6: Number of clusters = 44\n",
      "Iteration 7: Number of clusters = 43\n",
      "Iteration 8: Number of clusters = 42\n",
      "Iteration 9: Number of clusters = 41\n",
      "Iteration 10: Number of clusters = 40\n",
      "Iteration 11: Number of clusters = 39\n",
      "Iteration 12: Number of clusters = 38\n",
      "Iteration 13: Number of clusters = 37\n",
      "Iteration 14: Number of clusters = 36\n",
      "Iteration 15: Number of clusters = 35\n",
      "Iteration 16: Number of clusters = 34\n",
      "Iteration 17: Number of clusters = 33\n",
      "Iteration 18: Number of clusters = 32\n",
      "Iteration 19: Number of clusters = 31\n",
      "Iteration 20: Number of clusters = 30\n",
      "Iteration 21: Number of clusters = 29\n",
      "Iteration 22: Number of clusters = 28\n",
      "Iteration 23: Number of clusters = 27\n",
      "Iteration 24: Number of clusters = 26\n",
      "Iteration 25: Number of clusters = 25\n",
      "Iteration 26: Number of clusters = 24\n",
      "Iteration 27: Number of clusters = 23\n",
      "Iteration 28: Number of clusters = 22\n",
      "Iteration 29: Number of clusters = 21\n",
      "Iteration 30: Number of clusters = 20\n",
      "Iteration 31: Number of clusters = 19\n",
      "Iteration 32: Number of clusters = 18\n",
      "Iteration 33: Number of clusters = 17\n",
      "Iteration 34: Number of clusters = 16\n",
      "Iteration 35: Number of clusters = 15\n",
      "Iteration 36: Number of clusters = 14\n",
      "Iteration 37: Number of clusters = 13\n",
      "Iteration 38: Number of clusters = 12\n",
      "Iteration 39: Number of clusters = 11\n",
      "Iteration 40: Number of clusters = 10\n",
      "Iteration 41: Number of clusters = 9\n",
      "Iteration 42: Number of clusters = 8\n",
      "Iteration 43: Number of clusters = 7\n",
      "Iteration 44: Number of clusters = 6\n",
      "Iteration 45: Number of clusters = 5\n",
      "Iteration 46: Number of clusters = 4\n",
      "Iteration 47: Number of clusters = 3\n",
      "Iteration 48: Number of clusters = 2\n",
      "Iteration 49: Number of clusters = 1\n"
     ]
    }
   ],
   "source": [
    "print(\"Min similarity measure:\")\n",
    "for i, clusters in enumerate(min_clusters):\n",
    "    print(f\"Iteration {i + 1}: Number of clusters = {len(clusters)}\")"
   ]
  },
  {
   "cell_type": "code",
   "execution_count": 30,
   "id": "31f0e354-722b-4469-9ac8-68b09c54b0a5",
   "metadata": {},
   "outputs": [
    {
     "name": "stdout",
     "output_type": "stream",
     "text": [
      "\n",
      "Max similarity measure:\n",
      "Iteration 1: Number of clusters = 49\n",
      "Iteration 2: Number of clusters = 48\n",
      "Iteration 3: Number of clusters = 47\n",
      "Iteration 4: Number of clusters = 46\n",
      "Iteration 5: Number of clusters = 45\n",
      "Iteration 6: Number of clusters = 44\n",
      "Iteration 7: Number of clusters = 43\n",
      "Iteration 8: Number of clusters = 42\n",
      "Iteration 9: Number of clusters = 41\n",
      "Iteration 10: Number of clusters = 40\n",
      "Iteration 11: Number of clusters = 39\n",
      "Iteration 12: Number of clusters = 38\n",
      "Iteration 13: Number of clusters = 37\n",
      "Iteration 14: Number of clusters = 36\n",
      "Iteration 15: Number of clusters = 35\n",
      "Iteration 16: Number of clusters = 34\n",
      "Iteration 17: Number of clusters = 33\n",
      "Iteration 18: Number of clusters = 32\n",
      "Iteration 19: Number of clusters = 31\n",
      "Iteration 20: Number of clusters = 30\n",
      "Iteration 21: Number of clusters = 29\n",
      "Iteration 22: Number of clusters = 28\n",
      "Iteration 23: Number of clusters = 27\n",
      "Iteration 24: Number of clusters = 26\n",
      "Iteration 25: Number of clusters = 25\n",
      "Iteration 26: Number of clusters = 24\n",
      "Iteration 27: Number of clusters = 23\n",
      "Iteration 28: Number of clusters = 22\n",
      "Iteration 29: Number of clusters = 21\n",
      "Iteration 30: Number of clusters = 20\n",
      "Iteration 31: Number of clusters = 19\n",
      "Iteration 32: Number of clusters = 18\n",
      "Iteration 33: Number of clusters = 17\n",
      "Iteration 34: Number of clusters = 16\n",
      "Iteration 35: Number of clusters = 15\n",
      "Iteration 36: Number of clusters = 14\n",
      "Iteration 37: Number of clusters = 13\n",
      "Iteration 38: Number of clusters = 12\n",
      "Iteration 39: Number of clusters = 11\n",
      "Iteration 40: Number of clusters = 10\n",
      "Iteration 41: Number of clusters = 9\n",
      "Iteration 42: Number of clusters = 8\n",
      "Iteration 43: Number of clusters = 7\n",
      "Iteration 44: Number of clusters = 6\n",
      "Iteration 45: Number of clusters = 5\n",
      "Iteration 46: Number of clusters = 4\n",
      "Iteration 47: Number of clusters = 3\n",
      "Iteration 48: Number of clusters = 2\n",
      "Iteration 49: Number of clusters = 1\n"
     ]
    }
   ],
   "source": [
    "print(\"\\nMax similarity measure:\")\n",
    "for i, clusters in enumerate(max_clusters):\n",
    "    print(f\"Iteration {i + 1}: Number of clusters = {len(clusters)}\")"
   ]
  },
  {
   "cell_type": "code",
   "execution_count": 31,
   "id": "e39ace0c-8034-46ec-8429-123653288df4",
   "metadata": {},
   "outputs": [
    {
     "name": "stdout",
     "output_type": "stream",
     "text": [
      "\n",
      "Average similarity measure:\n",
      "Iteration 1: Number of clusters = 49\n",
      "Iteration 2: Number of clusters = 48\n",
      "Iteration 3: Number of clusters = 47\n",
      "Iteration 4: Number of clusters = 46\n",
      "Iteration 5: Number of clusters = 45\n",
      "Iteration 6: Number of clusters = 44\n",
      "Iteration 7: Number of clusters = 43\n",
      "Iteration 8: Number of clusters = 42\n",
      "Iteration 9: Number of clusters = 41\n",
      "Iteration 10: Number of clusters = 40\n",
      "Iteration 11: Number of clusters = 39\n",
      "Iteration 12: Number of clusters = 38\n",
      "Iteration 13: Number of clusters = 37\n",
      "Iteration 14: Number of clusters = 36\n",
      "Iteration 15: Number of clusters = 35\n",
      "Iteration 16: Number of clusters = 34\n",
      "Iteration 17: Number of clusters = 33\n",
      "Iteration 18: Number of clusters = 32\n",
      "Iteration 19: Number of clusters = 31\n",
      "Iteration 20: Number of clusters = 30\n",
      "Iteration 21: Number of clusters = 29\n",
      "Iteration 22: Number of clusters = 28\n",
      "Iteration 23: Number of clusters = 27\n",
      "Iteration 24: Number of clusters = 26\n",
      "Iteration 25: Number of clusters = 25\n",
      "Iteration 26: Number of clusters = 24\n",
      "Iteration 27: Number of clusters = 23\n",
      "Iteration 28: Number of clusters = 22\n",
      "Iteration 29: Number of clusters = 21\n",
      "Iteration 30: Number of clusters = 20\n",
      "Iteration 31: Number of clusters = 19\n",
      "Iteration 32: Number of clusters = 18\n",
      "Iteration 33: Number of clusters = 17\n",
      "Iteration 34: Number of clusters = 16\n",
      "Iteration 35: Number of clusters = 15\n",
      "Iteration 36: Number of clusters = 14\n",
      "Iteration 37: Number of clusters = 13\n",
      "Iteration 38: Number of clusters = 12\n",
      "Iteration 39: Number of clusters = 11\n",
      "Iteration 40: Number of clusters = 10\n",
      "Iteration 41: Number of clusters = 9\n",
      "Iteration 42: Number of clusters = 8\n",
      "Iteration 43: Number of clusters = 7\n",
      "Iteration 44: Number of clusters = 6\n",
      "Iteration 45: Number of clusters = 5\n",
      "Iteration 46: Number of clusters = 4\n",
      "Iteration 47: Number of clusters = 3\n",
      "Iteration 48: Number of clusters = 2\n",
      "Iteration 49: Number of clusters = 1\n"
     ]
    }
   ],
   "source": [
    "print(\"\\nAverage similarity measure:\")\n",
    "for i, clusters in enumerate(average_clusters):\n",
    "    print(f\"Iteration {i + 1}: Number of clusters = {len(clusters)}\")"
   ]
  },
  {
   "cell_type": "code",
   "execution_count": null,
   "id": "b328e500-6193-4a88-8c79-87e5d96fe581",
   "metadata": {},
   "outputs": [],
   "source": []
  },
  {
   "cell_type": "code",
   "execution_count": null,
   "id": "b8daffb3-889d-4118-96dd-1c768720e7e8",
   "metadata": {},
   "outputs": [],
   "source": []
  }
 ],
 "metadata": {
  "kernelspec": {
   "display_name": "Python 3 (ipykernel)",
   "language": "python",
   "name": "python3"
  },
  "language_info": {
   "codemirror_mode": {
    "name": "ipython",
    "version": 3
   },
   "file_extension": ".py",
   "mimetype": "text/x-python",
   "name": "python",
   "nbconvert_exporter": "python",
   "pygments_lexer": "ipython3",
   "version": "3.10.12"
  }
 },
 "nbformat": 4,
 "nbformat_minor": 5
}

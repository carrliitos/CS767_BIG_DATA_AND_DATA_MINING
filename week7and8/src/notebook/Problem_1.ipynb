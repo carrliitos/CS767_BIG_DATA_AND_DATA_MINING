{
 "cells": [
  {
   "cell_type": "markdown",
   "id": "5030d2e1-778f-407e-95eb-645149b7e051",
   "metadata": {},
   "source": [
    "# Problem 1: K-means clustering algorithm\n",
    "\n",
    "Implement this algorithm and use it to cluster the observations in the data set USArrests.csv into K = 4 clusters. This data set contains 50 observations (one for each US state). The variables are murder (per 100K), asssault (per 100K), percent urban population, and rape (per 100K). After you obtain the clustering solution, provide a qualitative description of each cluster.\n",
    "\n",
    "If you use Euclidean distance or squared Euclidean distance as a dissimilarity metric, then you should scale the data so that each variable has mean zero and standard deviation one"
   ]
  },
  {
   "cell_type": "code",
   "execution_count": 1,
   "id": "6a1190e6-8037-4baa-963e-b09d20a03d4d",
   "metadata": {},
   "outputs": [],
   "source": [
    "import pandas as pd\n",
    "from sklearn.preprocessing import StandardScaler\n",
    "from sklearn.cluster import KMeans"
   ]
  },
  {
   "cell_type": "code",
   "execution_count": 2,
   "id": "c81dfe63-4150-46c5-b28d-3a851d0e30cc",
   "metadata": {},
   "outputs": [],
   "source": [
    "usa_arrests_csv = \"../data/USArrests.csv\"\n",
    "\n",
    "with open(usa_arrests_csv, \"r\") as usa_arrests_infile:\n",
    "    usa_arrests_df = pd.read_csv(usa_arrests_infile)"
   ]
  },
  {
   "cell_type": "code",
   "execution_count": 3,
   "id": "83def9c1-19b8-4eaf-951b-155b116dae46",
   "metadata": {},
   "outputs": [
    {
     "data": {
      "text/html": [
       "<div>\n",
       "<style scoped>\n",
       "    .dataframe tbody tr th:only-of-type {\n",
       "        vertical-align: middle;\n",
       "    }\n",
       "\n",
       "    .dataframe tbody tr th {\n",
       "        vertical-align: top;\n",
       "    }\n",
       "\n",
       "    .dataframe thead th {\n",
       "        text-align: right;\n",
       "    }\n",
       "</style>\n",
       "<table border=\"1\" class=\"dataframe\">\n",
       "  <thead>\n",
       "    <tr style=\"text-align: right;\">\n",
       "      <th></th>\n",
       "      <th>State</th>\n",
       "      <th>Murder</th>\n",
       "      <th>Assault</th>\n",
       "      <th>UrbanPop</th>\n",
       "      <th>Rape</th>\n",
       "    </tr>\n",
       "  </thead>\n",
       "  <tbody>\n",
       "    <tr>\n",
       "      <th>0</th>\n",
       "      <td>Alabama</td>\n",
       "      <td>13.2</td>\n",
       "      <td>236</td>\n",
       "      <td>58</td>\n",
       "      <td>21.2</td>\n",
       "    </tr>\n",
       "    <tr>\n",
       "      <th>1</th>\n",
       "      <td>Alaska</td>\n",
       "      <td>10.0</td>\n",
       "      <td>263</td>\n",
       "      <td>48</td>\n",
       "      <td>44.5</td>\n",
       "    </tr>\n",
       "    <tr>\n",
       "      <th>2</th>\n",
       "      <td>Arizona</td>\n",
       "      <td>8.1</td>\n",
       "      <td>294</td>\n",
       "      <td>80</td>\n",
       "      <td>31.0</td>\n",
       "    </tr>\n",
       "    <tr>\n",
       "      <th>3</th>\n",
       "      <td>Arkansas</td>\n",
       "      <td>8.8</td>\n",
       "      <td>190</td>\n",
       "      <td>50</td>\n",
       "      <td>19.5</td>\n",
       "    </tr>\n",
       "    <tr>\n",
       "      <th>4</th>\n",
       "      <td>California</td>\n",
       "      <td>9.0</td>\n",
       "      <td>276</td>\n",
       "      <td>91</td>\n",
       "      <td>40.6</td>\n",
       "    </tr>\n",
       "  </tbody>\n",
       "</table>\n",
       "</div>"
      ],
      "text/plain": [
       "        State  Murder  Assault  UrbanPop  Rape\n",
       "0     Alabama    13.2      236        58  21.2\n",
       "1      Alaska    10.0      263        48  44.5\n",
       "2     Arizona     8.1      294        80  31.0\n",
       "3    Arkansas     8.8      190        50  19.5\n",
       "4  California     9.0      276        91  40.6"
      ]
     },
     "execution_count": 3,
     "metadata": {},
     "output_type": "execute_result"
    }
   ],
   "source": [
    "usa_arrests_df.head()"
   ]
  },
  {
   "cell_type": "markdown",
   "id": "1d2fd5b4-c09c-4a8a-9b70-d05ebb0acf5a",
   "metadata": {},
   "source": [
    "## Variables for clustering\n",
    "\n",
    "The variables for clustering are:\n",
    "\n",
    "- `Murder`\n",
    "- `Assault`\n",
    "- `UrbanPop`\n",
    "- `Rape`"
   ]
  },
  {
   "cell_type": "code",
   "execution_count": 4,
   "id": "1bad2f0f-4959-4931-937b-d6133e277b10",
   "metadata": {},
   "outputs": [],
   "source": [
    "# Select the variables for clustering\n",
    "X = usa_arrests_df[['Murder', 'Assault', 'UrbanPop', 'Rape']]"
   ]
  },
  {
   "cell_type": "code",
   "execution_count": 7,
   "id": "aa37c99f-6b50-4b9d-8749-01d7122b2e03",
   "metadata": {},
   "outputs": [],
   "source": [
    "# Scale the data\n",
    "scaler = StandardScaler()\n",
    "X_scaled = scaler.fit_transform(X)"
   ]
  },
  {
   "cell_type": "code",
   "execution_count": 8,
   "id": "51c55b22-3bde-4bc7-8bda-1d60a52fa7e3",
   "metadata": {},
   "outputs": [],
   "source": [
    "# Perform K-means clustering with K=4\n",
    "kmeans = KMeans(n_clusters=4, random_state=42)\n",
    "usa_arrests_df['Cluster'] = kmeans.fit_predict(X_scaled)"
   ]
  },
  {
   "cell_type": "code",
   "execution_count": 9,
   "id": "bd2045c7-b9a2-4a80-8c3f-0d3e2565d4bb",
   "metadata": {},
   "outputs": [
    {
     "data": {
      "text/html": [
       "<div>\n",
       "<style scoped>\n",
       "    .dataframe tbody tr th:only-of-type {\n",
       "        vertical-align: middle;\n",
       "    }\n",
       "\n",
       "    .dataframe tbody tr th {\n",
       "        vertical-align: top;\n",
       "    }\n",
       "\n",
       "    .dataframe thead th {\n",
       "        text-align: right;\n",
       "    }\n",
       "</style>\n",
       "<table border=\"1\" class=\"dataframe\">\n",
       "  <thead>\n",
       "    <tr style=\"text-align: right;\">\n",
       "      <th></th>\n",
       "      <th>State</th>\n",
       "      <th>Murder</th>\n",
       "      <th>Assault</th>\n",
       "      <th>UrbanPop</th>\n",
       "      <th>Rape</th>\n",
       "      <th>Cluster</th>\n",
       "    </tr>\n",
       "  </thead>\n",
       "  <tbody>\n",
       "    <tr>\n",
       "      <th>0</th>\n",
       "      <td>Alabama</td>\n",
       "      <td>13.2</td>\n",
       "      <td>236</td>\n",
       "      <td>58</td>\n",
       "      <td>21.2</td>\n",
       "      <td>1</td>\n",
       "    </tr>\n",
       "    <tr>\n",
       "      <th>1</th>\n",
       "      <td>Alaska</td>\n",
       "      <td>10.0</td>\n",
       "      <td>263</td>\n",
       "      <td>48</td>\n",
       "      <td>44.5</td>\n",
       "      <td>2</td>\n",
       "    </tr>\n",
       "    <tr>\n",
       "      <th>2</th>\n",
       "      <td>Arizona</td>\n",
       "      <td>8.1</td>\n",
       "      <td>294</td>\n",
       "      <td>80</td>\n",
       "      <td>31.0</td>\n",
       "      <td>2</td>\n",
       "    </tr>\n",
       "    <tr>\n",
       "      <th>3</th>\n",
       "      <td>Arkansas</td>\n",
       "      <td>8.8</td>\n",
       "      <td>190</td>\n",
       "      <td>50</td>\n",
       "      <td>19.5</td>\n",
       "      <td>1</td>\n",
       "    </tr>\n",
       "    <tr>\n",
       "      <th>4</th>\n",
       "      <td>California</td>\n",
       "      <td>9.0</td>\n",
       "      <td>276</td>\n",
       "      <td>91</td>\n",
       "      <td>40.6</td>\n",
       "      <td>2</td>\n",
       "    </tr>\n",
       "  </tbody>\n",
       "</table>\n",
       "</div>"
      ],
      "text/plain": [
       "        State  Murder  Assault  UrbanPop  Rape  Cluster\n",
       "0     Alabama    13.2      236        58  21.2        1\n",
       "1      Alaska    10.0      263        48  44.5        2\n",
       "2     Arizona     8.1      294        80  31.0        2\n",
       "3    Arkansas     8.8      190        50  19.5        1\n",
       "4  California     9.0      276        91  40.6        2"
      ]
     },
     "execution_count": 9,
     "metadata": {},
     "output_type": "execute_result"
    }
   ],
   "source": [
    "usa_arrests_df.head()"
   ]
  },
  {
   "cell_type": "markdown",
   "id": "a7a020e4-f31b-45e9-a0ff-f2c56232a443",
   "metadata": {},
   "source": [
    "## Qualitative Description of each cluster"
   ]
  },
  {
   "cell_type": "code",
   "execution_count": 10,
   "id": "0c275991-51ef-4abd-a801-419d48aafbb9",
   "metadata": {},
   "outputs": [
    {
     "name": "stdout",
     "output_type": "stream",
     "text": [
      "Cluster 1:\n",
      "  - Murder: 3.60\n",
      "  - Assault: 78.54\n",
      "  - UrbanPop: 52.08\n",
      "  - Rape: 12.18\n",
      "\n",
      "Cluster 2:\n",
      "  - Murder: 13.94\n",
      "  - Assault: 243.62\n",
      "  - UrbanPop: 53.75\n",
      "  - Rape: 21.41\n",
      "\n",
      "Cluster 3:\n",
      "  - Murder: 10.97\n",
      "  - Assault: 264.00\n",
      "  - UrbanPop: 76.50\n",
      "  - Rape: 33.61\n",
      "\n",
      "Cluster 4:\n",
      "  - Murder: 5.85\n",
      "  - Assault: 141.18\n",
      "  - UrbanPop: 73.65\n",
      "  - Rape: 19.34\n",
      "\n"
     ]
    }
   ],
   "source": [
    "cluster_centers = scaler.inverse_transform(kmeans.cluster_centers_)\n",
    "cluster_labels = ['Cluster 1', 'Cluster 2', 'Cluster 3', 'Cluster 4']\n",
    "for i, center in enumerate(cluster_centers):\n",
    "    print(f\"{cluster_labels[i]}:\")\n",
    "    print(f\"  - Murder: {center[0]:.2f}\")\n",
    "    print(f\"  - Assault: {center[1]:.2f}\")\n",
    "    print(f\"  - UrbanPop: {center[2]:.2f}\")\n",
    "    print(f\"  - Rape: {center[3]:.2f}\")\n",
    "    print()"
   ]
  },
  {
   "cell_type": "markdown",
   "id": "f5485eb0-c33d-4d6a-b0c2-86ea0725c7c5",
   "metadata": {},
   "source": [
    "These numbers represent the mean values of the variables (Murder, Assault, UrbanPop, and Rape) for each cluster:\n",
    "\n",
    "- **Cluster 1**: This cluster has the lowest values for Murder, Assault, and Rape, indicating states with lower rates of violent crimes. The UrbanPop value suggests that these states have a moderate level of urbanization.\n",
    "\n",
    "- **Cluster 2**: This cluster has the highest values for Murder, Assault, and Rape, indicating states with higher rates of violent crimes. The UrbanPop value suggests that these states have a moderate level of urbanization.\n",
    "\n",
    "- **Cluster 3**: This cluster has high values for Murder, Assault, and Rape, similar to Cluster 2. However, the UrbanPop value is higher, indicating that these states have a higher level of urbanization compared to Cluster 2.\n",
    "\n",
    "- **Cluster 4**: This cluster has moderate values for Murder, Assault, and Rape, indicating states with moderate rates of violent crimes. The UrbanPop value suggests that these states have a higher level of urbanization.\n",
    "\n",
    "In summary, Cluster 1 represents states with the lowest crime rates and moderate urbanization, Cluster 2 represents states with the highest crime rates and moderate urbanization, Cluster 3 represents states with high crime rates and high urbanization, and Cluster 4 represents states with moderate crime rates and high urbanization."
   ]
  }
 ],
 "metadata": {
  "kernelspec": {
   "display_name": "Python 3 (ipykernel)",
   "language": "python",
   "name": "python3"
  },
  "language_info": {
   "codemirror_mode": {
    "name": "ipython",
    "version": 3
   },
   "file_extension": ".py",
   "mimetype": "text/x-python",
   "name": "python",
   "nbconvert_exporter": "python",
   "pygments_lexer": "ipython3",
   "version": "3.10.12"
  }
 },
 "nbformat": 4,
 "nbformat_minor": 5
}
